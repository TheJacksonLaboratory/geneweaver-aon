{
 "cells": [
  {
   "cell_type": "code",
   "execution_count": 1,
   "id": "2ed79366d52be9b",
   "metadata": {
    "collapsed": false,
    "is_executing": true,
    "jupyter": {
     "outputs_hidden": false
    }
   },
   "outputs": [],
   "source": [
    "from itertools import islice, chain"
   ]
  },
  {
   "cell_type": "code",
   "execution_count": 2,
   "id": "44fab152-4525-41b5-ab9f-41cda7ef30e5",
   "metadata": {},
   "outputs": [],
   "source": [
    "import sys, requests, os, gzip, shutil"
   ]
  },
  {
   "cell_type": "code",
   "execution_count": 3,
   "id": "69be1111-1bc3-4293-8c1a-efdbea4be639",
   "metadata": {},
   "outputs": [],
   "source": [
    "from geneweaver.aon.database import SessionLocal\n",
    "from geneweaver.aon.models import Gene, Species, Ortholog, Algorithm, Homology"
   ]
  },
  {
   "cell_type": "code",
   "execution_count": 4,
   "id": "3dd6c0f3-f88d-4d0f-bf53-f536a1dbbb06",
   "metadata": {},
   "outputs": [],
   "source": [
    "release = (requests.get(\"https://www.alliancegenome.org/api/releaseInfo\")).json()"
   ]
  },
  {
   "cell_type": "code",
   "execution_count": 5,
   "id": "916acbea-98ab-4837-963a-112c2ec43c58",
   "metadata": {},
   "outputs": [
    {
     "data": {
      "text/plain": [
       "{'releaseDate': '2023-09-28T10:00:00.000+00:00',\n",
       " 'releaseVersion': '6.0.0',\n",
       " 'snapShotDate': '2023-09-21T18:43:11.822+00:00'}"
      ]
     },
     "execution_count": 5,
     "metadata": {},
     "output_type": "execute_result"
    }
   ],
   "source": [
    "release"
   ]
  },
  {
   "cell_type": "code",
   "execution_count": 6,
   "id": "aec14090-0c52-4a49-80c9-271ab06210db",
   "metadata": {},
   "outputs": [],
   "source": [
    "version = release[\"releaseVersion\"]\n"
   ]
  },
  {
   "cell_type": "code",
   "execution_count": 7,
   "id": "309bf2e7-4f69-40de-8d06-3e7b2ffc5bd4",
   "metadata": {},
   "outputs": [
    {
     "data": {
      "text/plain": [
       "'6.0.0'"
      ]
     },
     "execution_count": 7,
     "metadata": {},
     "output_type": "execute_result"
    }
   ],
   "source": [
    "version"
   ]
  },
  {
   "cell_type": "code",
   "execution_count": 22,
   "id": "b5d12fa2-81ef-447a-8b50-218a42142cdc",
   "metadata": {},
   "outputs": [
    {
     "data": {
      "text/plain": [
       "'https://download.alliancegenome.org/6.0.0/ORTHOLOGY-ALLIANCE/COMBINED/ORTHOLOGY-ALLIANCE_COMBINED_27.tsv.gz'"
      ]
     },
     "execution_count": 22,
     "metadata": {},
     "output_type": "execute_result"
    }
   ],
   "source": [
    "data_url = f\"https://download.alliancegenome.org/{version}/ORTHOLOGY-ALLIANCE/COMBINED/ORTHOLOGY-ALLIANCE_COMBINED_27.tsv.gz\"\n",
    "data_url ,"
   ]
  },
  {
   "cell_type": "code",
   "execution_count": 23,
   "id": "e08d0e06-6bdd-46d2-aa03-a294c9a9d8b9",
   "metadata": {},
   "outputs": [],
   "source": [
    "request = requests.get(data_url, allow_redirects=True)\n"
   ]
  },
  {
   "cell_type": "code",
   "execution_count": 26,
   "id": "63270c51-6ed4-4f77-9593-72b94ac2b84f",
   "metadata": {},
   "outputs": [
    {
     "data": {
      "text/plain": [
       "True"
      ]
     },
     "execution_count": 26,
     "metadata": {},
     "output_type": "execute_result"
    }
   ],
   "source": [
    "request.ok"
   ]
  },
  {
   "cell_type": "code",
   "execution_count": 11,
   "id": "f0ff1e29-a97d-470a-820f-8510ac652833",
   "metadata": {},
   "outputs": [
    {
     "data": {
      "text/plain": [
       "13616831"
      ]
     },
     "execution_count": 11,
     "metadata": {},
     "output_type": "execute_result"
    }
   ],
   "source": [
    "open(\"AGR_Orthology_Data.tsv.gz\", \"wb\").write(request.content)"
   ]
  },
  {
   "cell_type": "code",
   "execution_count": 12,
   "id": "0c396622-5604-4320-baa7-2576743efc19",
   "metadata": {},
   "outputs": [],
   "source": [
    "ORTHO_FILE = \"AGR_Orthology_Data.tsv\""
   ]
  },
  {
   "cell_type": "code",
   "execution_count": 13,
   "id": "abe66a28-2d3f-48d0-92ca-2764d17ec5aa",
   "metadata": {},
   "outputs": [],
   "source": [
    "from geneweaver.aon.service import read_file_by_line, read_n_lines, species_id_from_taxon_id, get_algorithm_by_name, init_species, add_genes, add_algorithms, add_ortholog_batch, add_orthologs, add_homology"
   ]
  },
  {
   "cell_type": "code",
   "execution_count": 14,
   "id": "00546191-8ccb-469c-908b-71f1741190cd",
   "metadata": {},
   "outputs": [
    {
     "name": "stdout",
     "output_type": "stream",
     "text": [
      "{('8355', 'Xenopus laevis'), ('7955', 'Danio rerio'), ('10090', 'Mus musculus'), ('8364', 'Xenopus tropicalis'), ('559292', 'Saccharomyces cerevisiae'), ('9606', 'Homo sapiens'), ('6239', 'Caenorhabditis elegans'), ('10116', 'Rattus norvegicus'), ('7227', 'Drosophila melanogaster')}\n"
     ]
    }
   ],
   "source": [
    "init_species()"
   ]
  },
  {
   "cell_type": "code",
   "execution_count": 15,
   "id": "f2ce810d-018b-4d09-9a6c-d2e4d85b49eb",
   "metadata": {},
   "outputs": [
    {
     "name": "stdout",
     "output_type": "stream",
     "text": [
      "DISCARDING --[##########################################################################\n",
      "]##########################################################################\n",
      "\n",
      "DISCARDING --[#\n",
      "]#\n",
      "\n",
      "DISCARDING --[# Data type: Orthology\n",
      "]# Data type: Orthology\n",
      "\n",
      "DISCARDING --[# Data format: tsv\n",
      "]# Data format: tsv\n",
      "\n",
      "DISCARDING --[# README: \n",
      "]# README: \n",
      "\n",
      "DISCARDING --[# Source: Alliance of Genome Resources (Alliance)\n",
      "]# Source: Alliance of Genome Resources (Alliance)\n",
      "\n",
      "DISCARDING --[# Source URL: http://alliancegenome.org/downloads\n",
      "]# Source URL: http://alliancegenome.org/downloads\n",
      "\n",
      "DISCARDING --[# Help Desk: help@alliancegenome.org\n",
      "]# Help Desk: help@alliancegenome.org\n",
      "\n",
      "DISCARDING --[# Orthology Filter: Stringent\n",
      "]# Orthology Filter: Stringent\n",
      "\n",
      "DISCARDING --[# Taxon IDs: NCBITaxon:9606, NCBITaxon:10116, NCBITaxon:10090, NCBITaxon:7955, NCBITaxon:8364, NCBITaxon:8355, NCBITaxon:7227, NCBITaxon:6239, NCBITaxon:559292\n",
      "]# Taxon IDs: NCBITaxon:9606, NCBITaxon:10116, NCBITaxon:10090, NCBITaxon:7955, NCBITaxon:8364, NCBITaxon:8355, NCBITaxon:7227, NCBITaxon:6239, NCBITaxon:559292\n",
      "\n",
      "DISCARDING --[# Species: Homo sapiens, Rattus norvegicus, Mus musculus, Danio rerio, Xenopus tropicalis, Xenopus laevis, Drosophila melanogaster, Caenorhabditis elegans, Saccharomyces cerevisiae\n",
      "]# Species: Homo sapiens, Rattus norvegicus, Mus musculus, Danio rerio, Xenopus tropicalis, Xenopus laevis, Drosophila melanogaster, Caenorhabditis elegans, Saccharomyces cerevisiae\n",
      "\n",
      "DISCARDING --[# Alliance Database Version: 6.0.0\n",
      "]# Alliance Database Version: 6.0.0\n",
      "\n",
      "DISCARDING --[# Date file generated (UTC): 2023-10-04 21:14\n",
      "]# Date file generated (UTC): 2023-10-04 21:14\n",
      "\n",
      "DISCARDING --[#\n",
      "]#\n",
      "\n",
      "DISCARDING --[##########################################################################\n",
      "]##########################################################################\n",
      "\n",
      "HEADER: Gene1ID\tGene1Symbol\tGene1SpeciesTaxonID\tGene1SpeciesName\tGene2ID\tGene2Symbol\tGene2SpeciesTaxonID\tGene2SpeciesName\tAlgorithms\tAlgorithmsMatch\tOutOfAlgorithms\tIsBestScore\tIsBestRevScore\n",
      "\n"
     ]
    }
   ],
   "source": [
    "add_algorithms()"
   ]
  },
  {
   "cell_type": "code",
   "execution_count": 16,
   "id": "6f21aa49-1d21-4ca7-af1a-f3ef13e0f0d3",
   "metadata": {},
   "outputs": [
    {
     "name": "stdout",
     "output_type": "stream",
     "text": [
      "DISCARDING --[##########################################################################\n",
      "]##########################################################################\n",
      "\n",
      "DISCARDING --[#\n",
      "]#\n",
      "\n",
      "DISCARDING --[# Data type: Orthology\n",
      "]# Data type: Orthology\n",
      "\n",
      "DISCARDING --[# Data format: tsv\n",
      "]# Data format: tsv\n",
      "\n",
      "DISCARDING --[# README: \n",
      "]# README: \n",
      "\n",
      "DISCARDING --[# Source: Alliance of Genome Resources (Alliance)\n",
      "]# Source: Alliance of Genome Resources (Alliance)\n",
      "\n",
      "DISCARDING --[# Source URL: http://alliancegenome.org/downloads\n",
      "]# Source URL: http://alliancegenome.org/downloads\n",
      "\n",
      "DISCARDING --[# Help Desk: help@alliancegenome.org\n",
      "]# Help Desk: help@alliancegenome.org\n",
      "\n",
      "DISCARDING --[# Orthology Filter: Stringent\n",
      "]# Orthology Filter: Stringent\n",
      "\n",
      "DISCARDING --[# Taxon IDs: NCBITaxon:9606, NCBITaxon:10116, NCBITaxon:10090, NCBITaxon:7955, NCBITaxon:8364, NCBITaxon:8355, NCBITaxon:7227, NCBITaxon:6239, NCBITaxon:559292\n",
      "]# Taxon IDs: NCBITaxon:9606, NCBITaxon:10116, NCBITaxon:10090, NCBITaxon:7955, NCBITaxon:8364, NCBITaxon:8355, NCBITaxon:7227, NCBITaxon:6239, NCBITaxon:559292\n",
      "\n",
      "DISCARDING --[# Species: Homo sapiens, Rattus norvegicus, Mus musculus, Danio rerio, Xenopus tropicalis, Xenopus laevis, Drosophila melanogaster, Caenorhabditis elegans, Saccharomyces cerevisiae\n",
      "]# Species: Homo sapiens, Rattus norvegicus, Mus musculus, Danio rerio, Xenopus tropicalis, Xenopus laevis, Drosophila melanogaster, Caenorhabditis elegans, Saccharomyces cerevisiae\n",
      "\n",
      "DISCARDING --[# Alliance Database Version: 6.0.0\n",
      "]# Alliance Database Version: 6.0.0\n",
      "\n",
      "DISCARDING --[# Date file generated (UTC): 2023-10-04 21:14\n",
      "]# Date file generated (UTC): 2023-10-04 21:14\n",
      "\n",
      "DISCARDING --[#\n",
      "]#\n",
      "\n",
      "DISCARDING --[##########################################################################\n",
      "]##########################################################################\n",
      "\n",
      "HEADER: Gene1ID\tGene1Symbol\tGene1SpeciesTaxonID\tGene1SpeciesName\tGene2ID\tGene2Symbol\tGene2SpeciesTaxonID\tGene2SpeciesName\tAlgorithms\tAlgorithmsMatch\tOutOfAlgorithms\tIsBestScore\tIsBestRevScore\n",
      "\n"
     ]
    }
   ],
   "source": [
    "add_genes()"
   ]
  },
  {
   "cell_type": "code",
   "execution_count": 17,
   "id": "416d4f3f-9cc0-4350-8e27-80a887549fa2",
   "metadata": {},
   "outputs": [
    {
     "name": "stdout",
     "output_type": "stream",
     "text": [
      "DISCARDING --[##########################################################################\n",
      "]##########################################################################\n",
      "\n",
      "DISCARDING --[#\n",
      "]#\n",
      "\n",
      "DISCARDING --[# Data type: Orthology\n",
      "]# Data type: Orthology\n",
      "\n",
      "DISCARDING --[# Data format: tsv\n",
      "]# Data format: tsv\n",
      "\n",
      "DISCARDING --[# README: \n",
      "]# README: \n",
      "\n",
      "DISCARDING --[# Source: Alliance of Genome Resources (Alliance)\n",
      "]# Source: Alliance of Genome Resources (Alliance)\n",
      "\n",
      "DISCARDING --[# Source URL: http://alliancegenome.org/downloads\n",
      "]# Source URL: http://alliancegenome.org/downloads\n",
      "\n",
      "DISCARDING --[# Help Desk: help@alliancegenome.org\n",
      "]# Help Desk: help@alliancegenome.org\n",
      "\n",
      "DISCARDING --[# Orthology Filter: Stringent\n",
      "]# Orthology Filter: Stringent\n",
      "\n",
      "DISCARDING --[# Taxon IDs: NCBITaxon:9606, NCBITaxon:10116, NCBITaxon:10090, NCBITaxon:7955, NCBITaxon:8364, NCBITaxon:8355, NCBITaxon:7227, NCBITaxon:6239, NCBITaxon:559292\n",
      "]# Taxon IDs: NCBITaxon:9606, NCBITaxon:10116, NCBITaxon:10090, NCBITaxon:7955, NCBITaxon:8364, NCBITaxon:8355, NCBITaxon:7227, NCBITaxon:6239, NCBITaxon:559292\n",
      "\n",
      "DISCARDING --[# Species: Homo sapiens, Rattus norvegicus, Mus musculus, Danio rerio, Xenopus tropicalis, Xenopus laevis, Drosophila melanogaster, Caenorhabditis elegans, Saccharomyces cerevisiae\n",
      "]# Species: Homo sapiens, Rattus norvegicus, Mus musculus, Danio rerio, Xenopus tropicalis, Xenopus laevis, Drosophila melanogaster, Caenorhabditis elegans, Saccharomyces cerevisiae\n",
      "\n",
      "DISCARDING --[# Alliance Database Version: 6.0.0\n",
      "]# Alliance Database Version: 6.0.0\n",
      "\n",
      "DISCARDING --[# Date file generated (UTC): 2023-10-04 21:14\n",
      "]# Date file generated (UTC): 2023-10-04 21:14\n",
      "\n",
      "DISCARDING --[#\n",
      "]#\n",
      "\n",
      "DISCARDING --[##########################################################################\n",
      "]##########################################################################\n",
      "\n",
      "HEADER: Gene1ID\tGene1Symbol\tGene1SpeciesTaxonID\tGene1SpeciesName\tGene2ID\tGene2Symbol\tGene2SpeciesTaxonID\tGene2SpeciesName\tAlgorithms\tAlgorithmsMatch\tOutOfAlgorithms\tIsBestScore\tIsBestRevScore\n",
      "\n"
     ]
    }
   ],
   "source": [
    "add_orthologs(1000)"
   ]
  },
  {
   "cell_type": "code",
   "execution_count": 18,
   "id": "6d46835a-6157-49b9-a91f-1478c8456802",
   "metadata": {},
   "outputs": [],
   "source": [
    "add_homology()"
   ]
  },
  {
   "cell_type": "code",
   "execution_count": null,
   "id": "c4b4f03d-8158-4ea2-8435-103869f7a603",
   "metadata": {},
   "outputs": [],
   "source": []
  }
 ],
 "metadata": {
  "kernelspec": {
   "display_name": "Python 3 (ipykernel)",
   "language": "python",
   "name": "python3"
  },
  "language_info": {
   "codemirror_mode": {
    "name": "ipython",
    "version": 3
   },
   "file_extension": ".py",
   "mimetype": "text/x-python",
   "name": "python",
   "nbconvert_exporter": "python",
   "pygments_lexer": "ipython3",
   "version": "3.9.16"
  }
 },
 "nbformat": 4,
 "nbformat_minor": 5
}
